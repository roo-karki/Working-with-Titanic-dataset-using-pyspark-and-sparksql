{
  "nbformat": 4,
  "nbformat_minor": 0,
  "metadata": {
    "colab": {
      "provenance": []
    },
    "kernelspec": {
      "name": "python3",
      "display_name": "Python 3"
    },
    "language_info": {
      "name": "python"
    }
  },
  "cells": [
    {
      "cell_type": "code",
      "execution_count": 1,
      "metadata": {
        "colab": {
          "base_uri": "https://localhost:8080/"
        },
        "id": "R5Qn8sYn7c1C",
        "outputId": "86de9e59-2538-4fcf-ecab-e0ece6f24065"
      },
      "outputs": [
        {
          "output_type": "stream",
          "name": "stdout",
          "text": [
            "Looking in indexes: https://pypi.org/simple, https://us-python.pkg.dev/colab-wheels/public/simple/\n",
            "Collecting pyspark\n",
            "  Downloading pyspark-3.4.0.tar.gz (310.8 MB)\n",
            "\u001b[2K     \u001b[90m━━━━━━━━━━━━━━━━━━━━━━━━━━━━━━━━━━━━━━━\u001b[0m \u001b[32m310.8/310.8 MB\u001b[0m \u001b[31m3.3 MB/s\u001b[0m eta \u001b[36m0:00:00\u001b[0m\n",
            "\u001b[?25h  Preparing metadata (setup.py) ... \u001b[?25l\u001b[?25hdone\n",
            "Requirement already satisfied: py4j==0.10.9.7 in /usr/local/lib/python3.9/dist-packages (from pyspark) (0.10.9.7)\n",
            "Building wheels for collected packages: pyspark\n",
            "  Building wheel for pyspark (setup.py) ... \u001b[?25l\u001b[?25hdone\n",
            "  Created wheel for pyspark: filename=pyspark-3.4.0-py2.py3-none-any.whl size=311317145 sha256=4b642ad81f3517afd27157e337288c1c70ac83c47ca4eb48bf76faf42e1d8067\n",
            "  Stored in directory: /root/.cache/pip/wheels/9f/34/a4/159aa12d0a510d5ff7c8f0220abbea42e5d81ecf588c4fd884\n",
            "Successfully built pyspark\n",
            "Installing collected packages: pyspark\n",
            "Successfully installed pyspark-3.4.0\n"
          ]
        }
      ],
      "source": [
        "!pip install pyspark"
      ]
    },
    {
      "cell_type": "code",
      "source": [
        "# creating a SparkSession\n",
        "from pyspark.sql import SparkSession\n",
        "spark = SparkSession.builder.master(\"local[1]\").appName(\"RoshanAssesment\").getOrCreate()"
      ],
      "metadata": {
        "id": "OVZwWolR7fif"
      },
      "execution_count": 2,
      "outputs": []
    },
    {
      "cell_type": "code",
      "source": [
        "#reading the Titanic dataset CSV file\n",
        "df = spark.read.csv(\"titanic.csv\", header = True)"
      ],
      "metadata": {
        "id": "Ramj4gn7DOWO"
      },
      "execution_count": 6,
      "outputs": []
    },
    {
      "cell_type": "code",
      "source": [
        "#creating table for sql\n",
        "df.createOrReplaceTempView(\"titanic_table\")"
      ],
      "metadata": {
        "id": "yaCKSycCIJii"
      },
      "execution_count": 16,
      "outputs": []
    },
    {
      "cell_type": "code",
      "source": [
        "# checking the schema and showing the data\n",
        "df.printSchema()\n",
        "df.show()"
      ],
      "metadata": {
        "colab": {
          "base_uri": "https://localhost:8080/"
        },
        "id": "EyBKWN9AFWU6",
        "outputId": "49825e29-c002-48af-a508-d41c1931cf56"
      },
      "execution_count": 7,
      "outputs": [
        {
          "output_type": "stream",
          "name": "stdout",
          "text": [
            "root\n",
            " |-- PassengerId: string (nullable = true)\n",
            " |-- Survived: string (nullable = true)\n",
            " |-- Pclass: string (nullable = true)\n",
            " |-- Name: string (nullable = true)\n",
            " |-- Sex: string (nullable = true)\n",
            " |-- Age: string (nullable = true)\n",
            " |-- SibSp: string (nullable = true)\n",
            " |-- Parch: string (nullable = true)\n",
            " |-- Ticket: string (nullable = true)\n",
            " |-- Fare: string (nullable = true)\n",
            " |-- Cabin: string (nullable = true)\n",
            " |-- Embarked: string (nullable = true)\n",
            "\n",
            "+-----------+--------+------+--------------------+------+----+-----+-----+----------------+-------+-----+--------+\n",
            "|PassengerId|Survived|Pclass|                Name|   Sex| Age|SibSp|Parch|          Ticket|   Fare|Cabin|Embarked|\n",
            "+-----------+--------+------+--------------------+------+----+-----+-----+----------------+-------+-----+--------+\n",
            "|          1|       0|     3|Braund, Mr. Owen ...|  male|  22|    1|    0|       A/5 21171|   7.25| null|       S|\n",
            "|          2|       1|     1|Cumings, Mrs. Joh...|female|  38|    1|    0|        PC 17599|71.2833|  C85|       C|\n",
            "|          3|       1|     3|Heikkinen, Miss. ...|female|  26|    0|    0|STON/O2. 3101282|  7.925| null|       S|\n",
            "|          4|       1|     1|Futrelle, Mrs. Ja...|female|  35|    1|    0|          113803|   53.1| C123|       S|\n",
            "|          5|       0|     3|Allen, Mr. Willia...|  male|  35|    0|    0|          373450|   8.05| null|       S|\n",
            "|          6|       0|     3|    Moran, Mr. James|  male|null|    0|    0|          330877| 8.4583| null|       Q|\n",
            "|          7|       0|     1|McCarthy, Mr. Tim...|  male|  54|    0|    0|           17463|51.8625|  E46|       S|\n",
            "|          8|       0|     3|Palsson, Master. ...|  male|   2|    3|    1|          349909| 21.075| null|       S|\n",
            "|          9|       1|     3|Johnson, Mrs. Osc...|female|  27|    0|    2|          347742|11.1333| null|       S|\n",
            "|         10|       1|     2|Nasser, Mrs. Nich...|female|  14|    1|    0|          237736|30.0708| null|       C|\n",
            "|         11|       1|     3|Sandstrom, Miss. ...|female|   4|    1|    1|         PP 9549|   16.7|   G6|       S|\n",
            "|         12|       1|     1|Bonnell, Miss. El...|female|  58|    0|    0|          113783|  26.55| C103|       S|\n",
            "|         13|       0|     3|Saundercock, Mr. ...|  male|  20|    0|    0|       A/5. 2151|   8.05| null|       S|\n",
            "|         14|       0|     3|Andersson, Mr. An...|  male|  39|    1|    5|          347082| 31.275| null|       S|\n",
            "|         15|       0|     3|Vestrom, Miss. Hu...|female|  14|    0|    0|          350406| 7.8542| null|       S|\n",
            "|         16|       1|     2|Hewlett, Mrs. (Ma...|female|  55|    0|    0|          248706|     16| null|       S|\n",
            "|         17|       0|     3|Rice, Master. Eugene|  male|   2|    4|    1|          382652| 29.125| null|       Q|\n",
            "|         18|       1|     2|Williams, Mr. Cha...|  male|null|    0|    0|          244373|     13| null|       S|\n",
            "|         19|       0|     3|Vander Planke, Mr...|female|  31|    1|    0|          345763|     18| null|       S|\n",
            "|         20|       1|     3|Masselmani, Mrs. ...|female|null|    0|    0|            2649|  7.225| null|       C|\n",
            "+-----------+--------+------+--------------------+------+----+-----+-----+----------------+-------+-----+--------+\n",
            "only showing top 20 rows\n",
            "\n"
          ]
        }
      ]
    },
    {
      "cell_type": "code",
      "source": [
        "#A.How many people survive and how many people dead\n",
        "# counting the number of survivors and deaths\n",
        "survived_count = df.filter(df.Survived == 1).count()\n",
        "died_count = df.filter(df.Survived == 0).count()"
      ],
      "metadata": {
        "id": "sFyJXtQrDfj3"
      },
      "execution_count": 8,
      "outputs": []
    },
    {
      "cell_type": "code",
      "source": [
        "# printing the results\n",
        "print(\"The people, those survives:\", survived_count)\n",
        "print(\"Deaths Count:\", died_count)"
      ],
      "metadata": {
        "colab": {
          "base_uri": "https://localhost:8080/"
        },
        "id": "-LQKjcPlFxsc",
        "outputId": "25fdd9ce-3ad2-41f6-d530-b69db76581ce"
      },
      "execution_count": 10,
      "outputs": [
        {
          "output_type": "stream",
          "name": "stdout",
          "text": [
            "The people, those survives: 342\n",
            "Deaths Count: 549\n"
          ]
        }
      ]
    },
    {
      "cell_type": "code",
      "source": [
        "#For SQL"
      ],
      "metadata": {
        "id": "RdcYIYJ0LWiL"
      },
      "execution_count": null,
      "outputs": []
    },
    {
      "cell_type": "code",
      "source": [
        "# counting the number of survivors\n",
        "survivors = spark.sql(\"SELECT COUNT(*) FROM titanic_table WHERE Survived = 1\").collect()[0][0]\n",
        "print(f\"The people, those survives: {survivors}\")"
      ],
      "metadata": {
        "colab": {
          "base_uri": "https://localhost:8080/"
        },
        "id": "1EiOMsCoLHPC",
        "outputId": "e144f37d-26be-4316-9312-34ee31a22358"
      },
      "execution_count": 32,
      "outputs": [
        {
          "output_type": "stream",
          "name": "stdout",
          "text": [
            "The people, those survives: 342\n"
          ]
        }
      ]
    },
    {
      "cell_type": "code",
      "source": [
        "# counting the number of deaths\n",
        "deaths = spark.sql(\"SELECT COUNT(*) FROM titanic_table WHERE Survived = 0\").collect()[0][0]\n",
        "print(f\"Deaths Count: {deaths}\")"
      ],
      "metadata": {
        "colab": {
          "base_uri": "https://localhost:8080/"
        },
        "id": "TEXBHq8oLNs9",
        "outputId": "41dd4a15-2704-4102-c256-0848e7517f02"
      },
      "execution_count": 33,
      "outputs": [
        {
          "output_type": "stream",
          "name": "stdout",
          "text": [
            "Deaths Count: 549\n"
          ]
        }
      ]
    },
    {
      "cell_type": "code",
      "source": [
        "#B.How many people survive how does not have sibling\n",
        "#count the number of survivors that does not have siblings\n",
        "from pyspark.sql.functions import col\n",
        "survived_without_siblings_count = df.filter((df.Survived == 1) & (col(\"SibSp\") == 0)).count()"
      ],
      "metadata": {
        "id": "jmZ-FnWDEbZ7"
      },
      "execution_count": 12,
      "outputs": []
    },
    {
      "cell_type": "code",
      "source": [
        "# printing the result\n",
        "print(\"People who survives and does not have siblings:\", survived_without_siblings_count)"
      ],
      "metadata": {
        "colab": {
          "base_uri": "https://localhost:8080/"
        },
        "id": "mDFuAb8dGomq",
        "outputId": "ccc278be-8ab5-4771-cf94-d2f4d625854d"
      },
      "execution_count": 13,
      "outputs": [
        {
          "output_type": "stream",
          "name": "stdout",
          "text": [
            "People who survives and does not have siblings: 210\n"
          ]
        }
      ]
    },
    {
      "cell_type": "code",
      "source": [
        "#For SQL"
      ],
      "metadata": {
        "id": "SKTBsX4xLirT"
      },
      "execution_count": null,
      "outputs": []
    },
    {
      "cell_type": "code",
      "source": [
        "survivors_without_siblings_count = spark.sql(\"SELECT COUNT(*) FROM titanic_table WHERE Survived = 1 AND SibSp = 0\").collect()[0][0]"
      ],
      "metadata": {
        "id": "sUIDUx6dLoNa"
      },
      "execution_count": 34,
      "outputs": []
    },
    {
      "cell_type": "code",
      "source": [
        "print(f\"People who survives and does not have siblings: {survivors_without_siblings_count}\")"
      ],
      "metadata": {
        "colab": {
          "base_uri": "https://localhost:8080/"
        },
        "id": "pipaKYSSLv16",
        "outputId": "72704db0-0097-45be-8c0b-c72e9bf6616c"
      },
      "execution_count": 35,
      "outputs": [
        {
          "output_type": "stream",
          "name": "stdout",
          "text": [
            "People who survives and does not have siblings: 210\n"
          ]
        }
      ]
    },
    {
      "cell_type": "code",
      "source": [
        "#C.How many people died Who does not have sibling\n",
        "#count the number of death that does not have siblings\n",
        "from pyspark.sql.functions import col\n",
        "died_without_siblings_count = df.filter((df.Survived == 0) & (col(\"SibSp\") == 0)).count()"
      ],
      "metadata": {
        "id": "NoOLhiC8HRja"
      },
      "execution_count": 14,
      "outputs": []
    },
    {
      "cell_type": "code",
      "source": [
        "# printing the result\n",
        "print(\"People who died and does not have siblings:\", died_without_siblings_count)"
      ],
      "metadata": {
        "colab": {
          "base_uri": "https://localhost:8080/"
        },
        "id": "c5atSG9qHq1p",
        "outputId": "d4eb4a65-5422-4438-dda7-b564673bd7b0"
      },
      "execution_count": 15,
      "outputs": [
        {
          "output_type": "stream",
          "name": "stdout",
          "text": [
            "People who died and does not have siblings: 398\n"
          ]
        }
      ]
    },
    {
      "cell_type": "code",
      "source": [
        "#for SQL"
      ],
      "metadata": {
        "id": "3mmLSChNL_Ok"
      },
      "execution_count": null,
      "outputs": []
    },
    {
      "cell_type": "code",
      "source": [
        "died_without_siblings_count = spark.sql(\"SELECT COUNT(*) FROM titanic_table WHERE Survived = 0 AND SibSp = 0\").collect()[0][0]"
      ],
      "metadata": {
        "id": "GRzwHrk6MBFJ"
      },
      "execution_count": 36,
      "outputs": []
    },
    {
      "cell_type": "code",
      "source": [
        "print(f\"People who died and does not have siblings: {died_without_siblings_count}\")"
      ],
      "metadata": {
        "colab": {
          "base_uri": "https://localhost:8080/"
        },
        "id": "Tg82PCOuMaPZ",
        "outputId": "5705a8d2-4529-455f-a1e5-ec11bc98ce46"
      },
      "execution_count": 37,
      "outputs": [
        {
          "output_type": "stream",
          "name": "stdout",
          "text": [
            "People who died and does not have siblings: 398\n"
          ]
        }
      ]
    },
    {
      "cell_type": "code",
      "source": [
        "#D.Remove the NAN data from cabin and display updated list\n",
        "# droping rows with NaN in the Cabin column\n",
        "df_without_nan_cabin = df.na.drop(subset=[\"Cabin\"])"
      ],
      "metadata": {
        "id": "S5fT8PekHzK9"
      },
      "execution_count": 17,
      "outputs": []
    },
    {
      "cell_type": "code",
      "source": [
        "# displaying the updated list\n",
        "df_without_nan_cabin.show()"
      ],
      "metadata": {
        "colab": {
          "base_uri": "https://localhost:8080/"
        },
        "id": "fdthGqFtImDX",
        "outputId": "224b2de3-581c-48de-c8ce-1430c35e4b91"
      },
      "execution_count": 18,
      "outputs": [
        {
          "output_type": "stream",
          "name": "stdout",
          "text": [
            "+-----------+--------+------+--------------------+------+----+-----+-----+-----------+--------+-----------+--------+\n",
            "|PassengerId|Survived|Pclass|                Name|   Sex| Age|SibSp|Parch|     Ticket|    Fare|      Cabin|Embarked|\n",
            "+-----------+--------+------+--------------------+------+----+-----+-----+-----------+--------+-----------+--------+\n",
            "|          2|       1|     1|Cumings, Mrs. Joh...|female|  38|    1|    0|   PC 17599| 71.2833|        C85|       C|\n",
            "|          4|       1|     1|Futrelle, Mrs. Ja...|female|  35|    1|    0|     113803|    53.1|       C123|       S|\n",
            "|          7|       0|     1|McCarthy, Mr. Tim...|  male|  54|    0|    0|      17463| 51.8625|        E46|       S|\n",
            "|         11|       1|     3|Sandstrom, Miss. ...|female|   4|    1|    1|    PP 9549|    16.7|         G6|       S|\n",
            "|         12|       1|     1|Bonnell, Miss. El...|female|  58|    0|    0|     113783|   26.55|       C103|       S|\n",
            "|         22|       1|     2|Beesley, Mr. Lawr...|  male|  34|    0|    0|     248698|      13|        D56|       S|\n",
            "|         24|       1|     1|Sloper, Mr. Willi...|  male|  28|    0|    0|     113788|    35.5|         A6|       S|\n",
            "|         28|       0|     1|Fortune, Mr. Char...|  male|  19|    3|    2|      19950|     263|C23 C25 C27|       S|\n",
            "|         32|       1|     1|Spencer, Mrs. Wil...|female|null|    1|    0|   PC 17569|146.5208|        B78|       C|\n",
            "|         53|       1|     1|Harper, Mrs. Henr...|female|  49|    1|    0|   PC 17572| 76.7292|        D33|       C|\n",
            "|         55|       0|     1|Ostby, Mr. Engelh...|  male|  65|    0|    1|     113509| 61.9792|        B30|       C|\n",
            "|         56|       1|     1|   Woolner, Mr. Hugh|  male|null|    0|    0|      19947|    35.5|        C52|       S|\n",
            "|         62|       1|     1| Icard, Miss. Amelie|female|  38|    0|    0|     113572|      80|        B28|    null|\n",
            "|         63|       0|     1|Harris, Mr. Henry...|  male|  45|    1|    0|      36973|  83.475|        C83|       S|\n",
            "|         67|       1|     2|Nye, Mrs. (Elizab...|female|  29|    0|    0| C.A. 29395|    10.5|        F33|       S|\n",
            "|         76|       0|     3|Moen, Mr. Sigurd ...|  male|  25|    0|    0|     348123|    7.65|      F G73|       S|\n",
            "|         89|       1|     1|Fortune, Miss. Ma...|female|  23|    3|    2|      19950|     263|C23 C25 C27|       S|\n",
            "|         93|       0|     1|Chaffee, Mr. Herb...|  male|  46|    1|    0|W.E.P. 5734|  61.175|        E31|       S|\n",
            "|         97|       0|     1|Goldschmidt, Mr. ...|  male|  71|    0|    0|   PC 17754| 34.6542|         A5|       C|\n",
            "|         98|       1|     1|Greenfield, Mr. W...|  male|  23|    0|    1|   PC 17759| 63.3583|    D10 D12|       C|\n",
            "+-----------+--------+------+--------------------+------+----+-----+-----+-----------+--------+-----------+--------+\n",
            "only showing top 20 rows\n",
            "\n"
          ]
        }
      ]
    },
    {
      "cell_type": "code",
      "source": [
        "#For SQL\n",
        "df_filtered = spark.sql(\"SELECT * FROM titanic_table WHERE cabin IS NOT NULL\")"
      ],
      "metadata": {
        "id": "mty7AyBzKqEg"
      },
      "execution_count": 29,
      "outputs": []
    },
    {
      "cell_type": "code",
      "source": [
        "# displaying the updated list\n",
        "df_filtered.show()"
      ],
      "metadata": {
        "colab": {
          "base_uri": "https://localhost:8080/"
        },
        "id": "f9b0GG5OKwaW",
        "outputId": "ec01a5f4-1dc9-46d1-bdcd-accd6b4d8187"
      },
      "execution_count": 30,
      "outputs": [
        {
          "output_type": "stream",
          "name": "stdout",
          "text": [
            "+-----------+--------+------+--------------------+------+----+-----+-----+-----------+--------+-----------+--------+\n",
            "|PassengerId|Survived|Pclass|                Name|   Sex| Age|SibSp|Parch|     Ticket|    Fare|      Cabin|Embarked|\n",
            "+-----------+--------+------+--------------------+------+----+-----+-----+-----------+--------+-----------+--------+\n",
            "|          2|       1|     1|Cumings, Mrs. Joh...|female|  38|    1|    0|   PC 17599| 71.2833|        C85|       C|\n",
            "|          4|       1|     1|Futrelle, Mrs. Ja...|female|  35|    1|    0|     113803|    53.1|       C123|       S|\n",
            "|          7|       0|     1|McCarthy, Mr. Tim...|  male|  54|    0|    0|      17463| 51.8625|        E46|       S|\n",
            "|         11|       1|     3|Sandstrom, Miss. ...|female|   4|    1|    1|    PP 9549|    16.7|         G6|       S|\n",
            "|         12|       1|     1|Bonnell, Miss. El...|female|  58|    0|    0|     113783|   26.55|       C103|       S|\n",
            "|         22|       1|     2|Beesley, Mr. Lawr...|  male|  34|    0|    0|     248698|      13|        D56|       S|\n",
            "|         24|       1|     1|Sloper, Mr. Willi...|  male|  28|    0|    0|     113788|    35.5|         A6|       S|\n",
            "|         28|       0|     1|Fortune, Mr. Char...|  male|  19|    3|    2|      19950|     263|C23 C25 C27|       S|\n",
            "|         32|       1|     1|Spencer, Mrs. Wil...|female|null|    1|    0|   PC 17569|146.5208|        B78|       C|\n",
            "|         53|       1|     1|Harper, Mrs. Henr...|female|  49|    1|    0|   PC 17572| 76.7292|        D33|       C|\n",
            "|         55|       0|     1|Ostby, Mr. Engelh...|  male|  65|    0|    1|     113509| 61.9792|        B30|       C|\n",
            "|         56|       1|     1|   Woolner, Mr. Hugh|  male|null|    0|    0|      19947|    35.5|        C52|       S|\n",
            "|         62|       1|     1| Icard, Miss. Amelie|female|  38|    0|    0|     113572|      80|        B28|    null|\n",
            "|         63|       0|     1|Harris, Mr. Henry...|  male|  45|    1|    0|      36973|  83.475|        C83|       S|\n",
            "|         67|       1|     2|Nye, Mrs. (Elizab...|female|  29|    0|    0| C.A. 29395|    10.5|        F33|       S|\n",
            "|         76|       0|     3|Moen, Mr. Sigurd ...|  male|  25|    0|    0|     348123|    7.65|      F G73|       S|\n",
            "|         89|       1|     1|Fortune, Miss. Ma...|female|  23|    3|    2|      19950|     263|C23 C25 C27|       S|\n",
            "|         93|       0|     1|Chaffee, Mr. Herb...|  male|  46|    1|    0|W.E.P. 5734|  61.175|        E31|       S|\n",
            "|         97|       0|     1|Goldschmidt, Mr. ...|  male|  71|    0|    0|   PC 17754| 34.6542|         A5|       C|\n",
            "|         98|       1|     1|Greenfield, Mr. W...|  male|  23|    0|    1|   PC 17759| 63.3583|    D10 D12|       C|\n",
            "+-----------+--------+------+--------------------+------+----+-----+-----+-----------+--------+-----------+--------+\n",
            "only showing top 20 rows\n",
            "\n"
          ]
        }
      ]
    },
    {
      "cell_type": "code",
      "source": [
        "#E.How many male who died and how many female died?\n",
        "#For Male\n",
        "from pyspark.sql.functions import count\n",
        "male_deaths = df.filter((df['Survived'] == 0) & (df['Sex'] == 'male')).agg(count('*')).collect()[0][0]"
      ],
      "metadata": {
        "id": "QpidZk8KIo7b"
      },
      "execution_count": 21,
      "outputs": []
    },
    {
      "cell_type": "code",
      "source": [
        "# printing the results\n",
        "print(\"Male deaths:\", male_deaths)"
      ],
      "metadata": {
        "colab": {
          "base_uri": "https://localhost:8080/"
        },
        "id": "zCBZG2d2JQ_N",
        "outputId": "4f3be8e6-3317-44b5-d22b-c7809e4e1a84"
      },
      "execution_count": 22,
      "outputs": [
        {
          "output_type": "stream",
          "name": "stdout",
          "text": [
            "Male deaths: 468\n"
          ]
        }
      ]
    },
    {
      "cell_type": "code",
      "source": [
        "#For Female\n",
        "from pyspark.sql.functions import count\n",
        "female_deaths = df.filter((df['Survived'] == 0) & (df['Sex'] == 'female')).agg(count('*')).collect()[0][0]"
      ],
      "metadata": {
        "id": "sYU5Q_AsJMGV"
      },
      "execution_count": 25,
      "outputs": []
    },
    {
      "cell_type": "code",
      "source": [
        "print(\"Female deaths:\", female_deaths)"
      ],
      "metadata": {
        "colab": {
          "base_uri": "https://localhost:8080/"
        },
        "id": "oeYBo-CbJUJ7",
        "outputId": "e4573e82-c927-4686-aae2-c59d12d6dc18"
      },
      "execution_count": 26,
      "outputs": [
        {
          "output_type": "stream",
          "name": "stdout",
          "text": [
            "Female deaths: 81\n"
          ]
        }
      ]
    },
    {
      "cell_type": "code",
      "source": [
        "#For SQL\n",
        "# For Male Deaths\n",
        "male_deaths = spark.sql(\"SELECT COUNT(*) FROM titanic_table WHERE Survived = 0 AND Sex = 'male'\").collect()[0][0]\n",
        "print(f\"The number of male deaths: {male_deaths}\")\n"
      ],
      "metadata": {
        "colab": {
          "base_uri": "https://localhost:8080/"
        },
        "id": "NquaPhGAJ-tb",
        "outputId": "275c6d31-a5db-4e29-cd89-da4e6b278067"
      },
      "execution_count": 27,
      "outputs": [
        {
          "output_type": "stream",
          "name": "stdout",
          "text": [
            "The number of male deaths: 468\n"
          ]
        }
      ]
    },
    {
      "cell_type": "code",
      "source": [
        "# For Female Deaths\n",
        "female_deaths = spark.sql(\"SELECT COUNT(*) FROM titanic_table WHERE Survived = 0 AND Sex = 'female'\").collect()[0][0]\n",
        "print(f\"The number of female deaths: {female_deaths}\") "
      ],
      "metadata": {
        "colab": {
          "base_uri": "https://localhost:8080/"
        },
        "id": "eg3dapYOKTQX",
        "outputId": "f5522b61-0ab9-407f-f28b-38e702c21283"
      },
      "execution_count": 28,
      "outputs": [
        {
          "output_type": "stream",
          "name": "stdout",
          "text": [
            "The number of female deaths: 81\n"
          ]
        }
      ]
    },
    {
      "cell_type": "code",
      "source": [],
      "metadata": {
        "id": "pY8jf9ujKTIP"
      },
      "execution_count": null,
      "outputs": []
    }
  ]
}